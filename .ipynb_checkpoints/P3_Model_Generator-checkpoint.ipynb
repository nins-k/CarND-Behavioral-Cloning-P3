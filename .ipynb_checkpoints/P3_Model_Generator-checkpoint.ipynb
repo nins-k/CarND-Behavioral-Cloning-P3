{
 "cells": [
  {
   "cell_type": "code",
   "execution_count": 17,
   "metadata": {},
   "outputs": [],
   "source": [
    "# Set paths for the training data\n",
    "\n",
    "base_dir = 'C:\\\\Users\\\\ninad.kulkarni\\\\Desktop\\\\SDCT1P3_Data\\\\Track1\\\\'\n",
    "csv_file_name = 'driving_log.csv'\n",
    "images_dir = base_dir+'IMG\\\\'"
   ]
  },
  {
   "cell_type": "code",
   "execution_count": 18,
   "metadata": {},
   "outputs": [],
   "source": [
    "import pandas as pd\n",
    "import matplotlib.pyplot as plt\n",
    "import cv2\n",
    "import numpy as np\n",
    "from keras.models import Sequential\n",
    "from keras.layers import Flatten, Dense\n",
    "from sklearn.utils import shuffle\n",
    "from sklearn.model_selection import train_test_split\n",
    "%matplotlib inline"
   ]
  },
  {
   "cell_type": "code",
   "execution_count": 36,
   "metadata": {},
   "outputs": [],
   "source": [
    "# Load data from csv and images into training and label numpy arrays\n",
    "\n",
    "X_data = []\n",
    "y_data = []\n",
    "\n",
    "df = pd.read_csv(base_dir+csv_file_name, header=None)\n",
    "\n",
    "for i in range(len(df)):\n",
    "    filename = df[0][i].split(\"\\\\\")[-1]\n",
    "    img = cv2.imread(images_dir+filename)\n",
    "    img = cv2.cvtColor(img, cv2.COLOR_BGR2RGB)\n",
    "    X_data.append(img)\n",
    "    y_data.append(float(csv_inp[3][i]))\n",
    "    \n",
    "X_data = np.array(X_data)\n",
    "y_data = np.array(y_data)"
   ]
  },
  {
   "cell_type": "code",
   "execution_count": 43,
   "metadata": {},
   "outputs": [],
   "source": [
    "a,b = train_test_split(df, test_size=0.2)"
   ]
  },
  {
   "cell_type": "code",
   "execution_count": 46,
   "metadata": {},
   "outputs": [
    {
     "name": "stdout",
     "output_type": "stream",
     "text": [
      "(1881, 7)\n",
      "(471, 7)\n",
      "(2352, 7)\n"
     ]
    }
   ],
   "source": [
    "print(a.shape)\n",
    "print(b.shape)\n",
    "print(df.shape)"
   ]
  },
  {
   "cell_type": "code",
   "execution_count": 60,
   "metadata": {},
   "outputs": [],
   "source": [
    "ax = np.array(a)"
   ]
  },
  {
   "cell_type": "code",
   "execution_count": 62,
   "metadata": {},
   "outputs": [
    {
     "data": {
      "text/plain": [
       "array([['C:\\\\Users\\\\ninad.kulkarni\\\\Desktop\\\\SDCT1P3_Data\\\\Track1\\\\IMG\\\\center_2018_02_26_10_33_29_228.jpg',\n",
       "        'C:\\\\Users\\\\ninad.kulkarni\\\\Desktop\\\\SDCT1P3_Data\\\\Track1\\\\IMG\\\\left_2018_02_26_10_33_29_228.jpg',\n",
       "        'C:\\\\Users\\\\ninad.kulkarni\\\\Desktop\\\\SDCT1P3_Data\\\\Track1\\\\IMG\\\\right_2018_02_26_10_33_29_228.jpg',\n",
       "        ..., 0.0, 0, 6.911434],\n",
       "       ['C:\\\\Users\\\\ninad.kulkarni\\\\Desktop\\\\SDCT1P3_Data\\\\Track1\\\\IMG\\\\center_2018_02_26_09_15_49_397.jpg',\n",
       "        'C:\\\\Users\\\\ninad.kulkarni\\\\Desktop\\\\SDCT1P3_Data\\\\Track1\\\\IMG\\\\left_2018_02_26_09_15_49_397.jpg',\n",
       "        'C:\\\\Users\\\\ninad.kulkarni\\\\Desktop\\\\SDCT1P3_Data\\\\Track1\\\\IMG\\\\right_2018_02_26_09_15_49_397.jpg',\n",
       "        ..., 0.0, 0, 12.929889999999999],\n",
       "       ['C:\\\\Users\\\\ninad.kulkarni\\\\Desktop\\\\SDCT1P3_Data\\\\Track1\\\\IMG\\\\center_2018_02_26_09_12_05_094.jpg',\n",
       "        'C:\\\\Users\\\\ninad.kulkarni\\\\Desktop\\\\SDCT1P3_Data\\\\Track1\\\\IMG\\\\left_2018_02_26_09_12_05_094.jpg',\n",
       "        'C:\\\\Users\\\\ninad.kulkarni\\\\Desktop\\\\SDCT1P3_Data\\\\Track1\\\\IMG\\\\right_2018_02_26_09_12_05_094.jpg',\n",
       "        ..., 0.0, 0, 10.42633],\n",
       "       ...,\n",
       "       ['C:\\\\Users\\\\ninad.kulkarni\\\\Desktop\\\\SDCT1P3_Data\\\\Track1\\\\IMG\\\\center_2018_02_26_09_02_38_431.jpg',\n",
       "        'C:\\\\Users\\\\ninad.kulkarni\\\\Desktop\\\\SDCT1P3_Data\\\\Track1\\\\IMG\\\\left_2018_02_26_09_02_38_431.jpg',\n",
       "        'C:\\\\Users\\\\ninad.kulkarni\\\\Desktop\\\\SDCT1P3_Data\\\\Track1\\\\IMG\\\\right_2018_02_26_09_02_38_431.jpg',\n",
       "        ..., 0.0, 0, 14.23235],\n",
       "       ['C:\\\\Users\\\\ninad.kulkarni\\\\Desktop\\\\SDCT1P3_Data\\\\Track1\\\\IMG\\\\center_2018_02_26_10_33_28_470.jpg',\n",
       "        'C:\\\\Users\\\\ninad.kulkarni\\\\Desktop\\\\SDCT1P3_Data\\\\Track1\\\\IMG\\\\left_2018_02_26_10_33_28_470.jpg',\n",
       "        'C:\\\\Users\\\\ninad.kulkarni\\\\Desktop\\\\SDCT1P3_Data\\\\Track1\\\\IMG\\\\right_2018_02_26_10_33_28_470.jpg',\n",
       "        ..., 0.0, 0, 7.451975999999999],\n",
       "       ['C:\\\\Users\\\\ninad.kulkarni\\\\Desktop\\\\SDCT1P3_Data\\\\Track1\\\\IMG\\\\center_2018_02_26_08_58_46_854.jpg',\n",
       "        'C:\\\\Users\\\\ninad.kulkarni\\\\Desktop\\\\SDCT1P3_Data\\\\Track1\\\\IMG\\\\left_2018_02_26_08_58_46_854.jpg',\n",
       "        'C:\\\\Users\\\\ninad.kulkarni\\\\Desktop\\\\SDCT1P3_Data\\\\Track1\\\\IMG\\\\right_2018_02_26_08_58_46_854.jpg',\n",
       "        ..., 0.0, 0, 21.667720000000003]], dtype=object)"
      ]
     },
     "execution_count": 62,
     "metadata": {},
     "output_type": "execute_result"
    }
   ],
   "source": [
    "ax"
   ]
  },
  {
   "cell_type": "code",
   "execution_count": 20,
   "metadata": {},
   "outputs": [
    {
     "name": "stdout",
     "output_type": "stream",
     "text": [
      "Image Set Shape: (2352, 160, 320, 3)\n",
      "Label Set Shape: (2352,)\n"
     ]
    }
   ],
   "source": [
    "print(\"Image Set Shape: {}\".format(X_data.shape))\n",
    "print(\"Label Set Shape: {}\".format(y_data.shape))"
   ]
  },
  {
   "cell_type": "code",
   "execution_count": null,
   "metadata": {},
   "outputs": [],
   "source": [
    "# Augment the data\n",
    "\n",
    "def augment(images, labels):\n",
    "    X_augment = np.array([cv2.flip(img, 1) for img in images])\n",
    "    y_augment = np.array([angle*-1 for angle in labels])\n",
    "\n",
    "return X_augment, y_augment"
   ]
  },
  {
   "cell_type": "code",
   "execution_count": null,
   "metadata": {},
   "outputs": [],
   "source": [
    "# Split into training and validation sets\n",
    "X_train, X_valid, y_train, y_valid = train_test_split(X_data, y_data, test_size=0.2)"
   ]
  },
  {
   "cell_type": "code",
   "execution_count": null,
   "metadata": {},
   "outputs": [],
   "source": [
    "# Generator for supplying data to the training model in batches\n",
    "\n",
    "def data_generator()"
   ]
  },
  {
   "cell_type": "code",
   "execution_count": 6,
   "metadata": {},
   "outputs": [
    {
     "name": "stdout",
     "output_type": "stream",
     "text": [
      "Train on 1881 samples, validate on 471 samples\n",
      "Epoch 1/15\n",
      "1881/1881 [==============================] - 8s - loss: 51424575.2860 - acc: 0.3700 - val_loss: 0.0354 - val_acc: 0.4352\n",
      "Epoch 2/15\n",
      "1881/1881 [==============================] - 7s - loss: 0.0180 - acc: 0.5550 - val_loss: 0.0353 - val_acc: 0.4352\n",
      "Epoch 3/15\n",
      "1881/1881 [==============================] - 8s - loss: 0.0179 - acc: 0.5550 - val_loss: 0.0353 - val_acc: 0.4352\n",
      "Epoch 4/15\n",
      "1881/1881 [==============================] - 7s - loss: 0.0179 - acc: 0.5550 - val_loss: 0.0353 - val_acc: 0.4352\n",
      "Epoch 5/15\n",
      "1881/1881 [==============================] - 8s - loss: 0.0179 - acc: 0.5550 - val_loss: 0.0353 - val_acc: 0.4352\n",
      "Epoch 6/15\n",
      "1881/1881 [==============================] - 7s - loss: 0.0179 - acc: 0.5550 - val_loss: 0.0353 - val_acc: 0.4352\n",
      "Epoch 7/15\n",
      "1881/1881 [==============================] - 8s - loss: 0.0179 - acc: 0.5550 - val_loss: 0.0353 - val_acc: 0.4352\n",
      "Epoch 8/15\n",
      "1881/1881 [==============================] - 8s - loss: 0.0179 - acc: 0.5550 - val_loss: 0.0353 - val_acc: 0.4352\n",
      "Epoch 9/15\n",
      "1881/1881 [==============================] - 7s - loss: 0.0179 - acc: 0.5550 - val_loss: 0.0353 - val_acc: 0.4352\n",
      "Epoch 10/15\n",
      "1881/1881 [==============================] - 8s - loss: 0.0179 - acc: 0.5550 - val_loss: 0.0353 - val_acc: 0.4352\n",
      "Epoch 11/15\n",
      "1881/1881 [==============================] - 8s - loss: 0.0179 - acc: 0.5550 - val_loss: 0.0353 - val_acc: 0.4352\n",
      "Epoch 12/15\n",
      "1881/1881 [==============================] - 8s - loss: 0.0179 - acc: 0.5550 - val_loss: 0.0353 - val_acc: 0.4352\n",
      "Epoch 13/15\n",
      "1881/1881 [==============================] - 8s - loss: 0.0179 - acc: 0.5550 - val_loss: 0.0353 - val_acc: 0.4352\n",
      "Epoch 14/15\n",
      "1881/1881 [==============================] - 7s - loss: 0.0179 - acc: 0.5550 - val_loss: 0.0353 - val_acc: 0.4352\n",
      "Epoch 15/15\n",
      "1881/1881 [==============================] - 8s - loss: 0.0179 - acc: 0.5550 - val_loss: 0.0353 - val_acc: 0.4352\n"
     ]
    }
   ],
   "source": [
    "# Model Definition\n",
    "\n",
    "model = Sequential()\n",
    "model.add(Flatten(input_shape=(160, 320, 3)))\n",
    "model.add(Dense(25, activation='relu'))\n",
    "model.add(Dense(1))\n",
    "\n",
    "model.compile(loss='mse', optimizer='adam', metrics=['accuracy'])\n",
    "model.fit(X_data, y_data, batch_size=128, validation_split=0.2, shuffle=True, nb_epoch=15)\n",
    "model.save('model.h5')"
   ]
  },
  {
   "cell_type": "code",
   "execution_count": null,
   "metadata": {},
   "outputs": [],
   "source": []
  }
 ],
 "metadata": {
  "kernelspec": {
   "display_name": "Python 3",
   "language": "python",
   "name": "python3"
  },
  "language_info": {
   "codemirror_mode": {
    "name": "ipython",
    "version": 3
   },
   "file_extension": ".py",
   "mimetype": "text/x-python",
   "name": "python",
   "nbconvert_exporter": "python",
   "pygments_lexer": "ipython3",
   "version": "3.5.2"
  },
  "widgets": {
   "state": {},
   "version": "1.1.2"
  }
 },
 "nbformat": 4,
 "nbformat_minor": 2
}
